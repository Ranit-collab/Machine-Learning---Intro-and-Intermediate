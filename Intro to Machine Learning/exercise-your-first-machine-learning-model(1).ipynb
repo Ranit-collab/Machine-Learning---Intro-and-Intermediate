{
 "cells": [
  {
   "cell_type": "markdown",
   "id": "close-douglas",
   "metadata": {
    "papermill": {
     "duration": 0.014764,
     "end_time": "2021-03-31T15:51:44.719874",
     "exception": false,
     "start_time": "2021-03-31T15:51:44.705110",
     "status": "completed"
    },
    "tags": []
   },
   "source": [
    "**This notebook is an exercise in the [Introduction to Machine Learning](https://www.kaggle.com/learn/intro-to-machine-learning) course.  You can reference the tutorial at [this link](https://www.kaggle.com/dansbecker/your-first-machine-learning-model).**\n",
    "\n",
    "---\n"
   ]
  },
  {
   "cell_type": "markdown",
   "id": "coordinated-geology",
   "metadata": {
    "papermill": {
     "duration": 0.01339,
     "end_time": "2021-03-31T15:51:44.747336",
     "exception": false,
     "start_time": "2021-03-31T15:51:44.733946",
     "status": "completed"
    },
    "tags": []
   },
   "source": [
    "## Recap\n",
    "So far, you have loaded your data and reviewed it with the following code. Run this cell to set up your coding environment where the previous step left off."
   ]
  },
  {
   "cell_type": "code",
   "execution_count": 1,
   "id": "excellent-handle",
   "metadata": {
    "execution": {
     "iopub.execute_input": "2021-03-31T15:51:44.782687Z",
     "iopub.status.busy": "2021-03-31T15:51:44.781879Z",
     "iopub.status.idle": "2021-03-31T15:51:46.356509Z",
     "shell.execute_reply": "2021-03-31T15:51:46.355745Z"
    },
    "papermill": {
     "duration": 1.595573,
     "end_time": "2021-03-31T15:51:46.356709",
     "exception": false,
     "start_time": "2021-03-31T15:51:44.761136",
     "status": "completed"
    },
    "tags": []
   },
   "outputs": [
    {
     "name": "stdout",
     "output_type": "stream",
     "text": [
      "Setup Complete\n"
     ]
    }
   ],
   "source": [
    "# Code you have previously used to load data\n",
    "import pandas as pd\n",
    "\n",
    "# Path of the file to read\n",
    "iowa_file_path = '../input/home-data-for-ml-course/train.csv'\n",
    "\n",
    "home_data = pd.read_csv(iowa_file_path)\n",
    "\n",
    "# Set up code checking\n",
    "from learntools.core import binder\n",
    "binder.bind(globals())\n",
    "from learntools.machine_learning.ex3 import *\n",
    "\n",
    "print(\"Setup Complete\")"
   ]
  },
  {
   "cell_type": "markdown",
   "id": "packed-bikini",
   "metadata": {
    "papermill": {
     "duration": 0.013837,
     "end_time": "2021-03-31T15:51:46.385494",
     "exception": false,
     "start_time": "2021-03-31T15:51:46.371657",
     "status": "completed"
    },
    "tags": []
   },
   "source": [
    "# Exercises\n",
    "\n",
    "## Step 1: Specify Prediction Target\n",
    "Select the target variable, which corresponds to the sales price. Save this to a new variable called `y`. You'll need to print a list of the columns to find the name of the column you need.\n"
   ]
  },
  {
   "cell_type": "code",
   "execution_count": 2,
   "id": "spiritual-carroll",
   "metadata": {
    "execution": {
     "iopub.execute_input": "2021-03-31T15:51:46.423559Z",
     "iopub.status.busy": "2021-03-31T15:51:46.422498Z",
     "iopub.status.idle": "2021-03-31T15:51:46.428156Z",
     "shell.execute_reply": "2021-03-31T15:51:46.427449Z"
    },
    "papermill": {
     "duration": 0.028534,
     "end_time": "2021-03-31T15:51:46.428309",
     "exception": false,
     "start_time": "2021-03-31T15:51:46.399775",
     "status": "completed"
    },
    "tags": []
   },
   "outputs": [
    {
     "data": {
      "text/plain": [
       "Index(['Id', 'MSSubClass', 'MSZoning', 'LotFrontage', 'LotArea', 'Street',\n",
       "       'Alley', 'LotShape', 'LandContour', 'Utilities', 'LotConfig',\n",
       "       'LandSlope', 'Neighborhood', 'Condition1', 'Condition2', 'BldgType',\n",
       "       'HouseStyle', 'OverallQual', 'OverallCond', 'YearBuilt', 'YearRemodAdd',\n",
       "       'RoofStyle', 'RoofMatl', 'Exterior1st', 'Exterior2nd', 'MasVnrType',\n",
       "       'MasVnrArea', 'ExterQual', 'ExterCond', 'Foundation', 'BsmtQual',\n",
       "       'BsmtCond', 'BsmtExposure', 'BsmtFinType1', 'BsmtFinSF1',\n",
       "       'BsmtFinType2', 'BsmtFinSF2', 'BsmtUnfSF', 'TotalBsmtSF', 'Heating',\n",
       "       'HeatingQC', 'CentralAir', 'Electrical', '1stFlrSF', '2ndFlrSF',\n",
       "       'LowQualFinSF', 'GrLivArea', 'BsmtFullBath', 'BsmtHalfBath', 'FullBath',\n",
       "       'HalfBath', 'BedroomAbvGr', 'KitchenAbvGr', 'KitchenQual',\n",
       "       'TotRmsAbvGrd', 'Functional', 'Fireplaces', 'FireplaceQu', 'GarageType',\n",
       "       'GarageYrBlt', 'GarageFinish', 'GarageCars', 'GarageArea', 'GarageQual',\n",
       "       'GarageCond', 'PavedDrive', 'WoodDeckSF', 'OpenPorchSF',\n",
       "       'EnclosedPorch', '3SsnPorch', 'ScreenPorch', 'PoolArea', 'PoolQC',\n",
       "       'Fence', 'MiscFeature', 'MiscVal', 'MoSold', 'YrSold', 'SaleType',\n",
       "       'SaleCondition', 'SalePrice'],\n",
       "      dtype='object')"
      ]
     },
     "execution_count": 2,
     "metadata": {},
     "output_type": "execute_result"
    }
   ],
   "source": [
    "# print the list of columns in the dataset to find the name of the prediction target\n",
    "home_data.columns"
   ]
  },
  {
   "cell_type": "code",
   "execution_count": 3,
   "id": "acoustic-rebate",
   "metadata": {
    "execution": {
     "iopub.execute_input": "2021-03-31T15:51:46.471918Z",
     "iopub.status.busy": "2021-03-31T15:51:46.471110Z",
     "iopub.status.idle": "2021-03-31T15:51:46.483195Z",
     "shell.execute_reply": "2021-03-31T15:51:46.482646Z"
    },
    "papermill": {
     "duration": 0.037959,
     "end_time": "2021-03-31T15:51:46.483338",
     "exception": false,
     "start_time": "2021-03-31T15:51:46.445379",
     "status": "completed"
    },
    "tags": []
   },
   "outputs": [
    {
     "data": {
      "application/javascript": [
       "parent.postMessage({\"jupyterEvent\": \"custom.exercise_interaction\", \"data\": {\"outcomeType\": 1, \"valueTowardsCompletion\": 0.25, \"interactionType\": 1, \"questionType\": 2, \"questionId\": \"1_SetTarget\", \"learnToolsVersion\": \"0.3.4\", \"failureMessage\": \"\", \"exceptionClass\": \"\", \"trace\": \"\"}}, \"*\")"
      ],
      "text/plain": [
       "<IPython.core.display.Javascript object>"
      ]
     },
     "metadata": {},
     "output_type": "display_data"
    },
    {
     "data": {
      "text/markdown": [
       "<span style=\"color:#33cc33\">Correct</span>"
      ],
      "text/plain": [
       "Correct"
      ]
     },
     "metadata": {},
     "output_type": "display_data"
    }
   ],
   "source": [
    "y = home_data['SalePrice']\n",
    "\n",
    "# Check your answer\n",
    "step_1.check()"
   ]
  },
  {
   "cell_type": "code",
   "execution_count": 4,
   "id": "responsible-synthetic",
   "metadata": {
    "collapsed": true,
    "execution": {
     "iopub.execute_input": "2021-03-31T15:51:46.521738Z",
     "iopub.status.busy": "2021-03-31T15:51:46.520694Z",
     "iopub.status.idle": "2021-03-31T15:51:46.524057Z",
     "shell.execute_reply": "2021-03-31T15:51:46.523420Z"
    },
    "papermill": {
     "duration": 0.024933,
     "end_time": "2021-03-31T15:51:46.524206",
     "exception": false,
     "start_time": "2021-03-31T15:51:46.499273",
     "status": "completed"
    },
    "tags": []
   },
   "outputs": [],
   "source": [
    "# The lines below will show you a hint or the solution.\n",
    "# step_1.hint() \n",
    "# step_1.solution()"
   ]
  },
  {
   "cell_type": "markdown",
   "id": "imperial-addition",
   "metadata": {
    "papermill": {
     "duration": 0.016271,
     "end_time": "2021-03-31T15:51:46.556641",
     "exception": false,
     "start_time": "2021-03-31T15:51:46.540370",
     "status": "completed"
    },
    "tags": []
   },
   "source": [
    "## Step 2: Create X\n",
    "Now you will create a DataFrame called `X` holding the predictive features.\n",
    "\n",
    "Since you want only some columns from the original data, you'll first create a list with the names of the columns you want in `X`.\n",
    "\n",
    "You'll use just the following columns in the list (you can copy and paste the whole list to save some typing, though you'll still need to add quotes):\n",
    "    * LotArea\n",
    "    * YearBuilt\n",
    "    * 1stFlrSF\n",
    "    * 2ndFlrSF\n",
    "    * FullBath\n",
    "    * BedroomAbvGr\n",
    "    * TotRmsAbvGrd\n",
    "\n",
    "After you've created that list of features, use it to create the DataFrame that you'll use to fit the model."
   ]
  },
  {
   "cell_type": "code",
   "execution_count": 5,
   "id": "restricted-guest",
   "metadata": {
    "execution": {
     "iopub.execute_input": "2021-03-31T15:51:46.593562Z",
     "iopub.status.busy": "2021-03-31T15:51:46.592574Z",
     "iopub.status.idle": "2021-03-31T15:51:46.606877Z",
     "shell.execute_reply": "2021-03-31T15:51:46.607345Z"
    },
    "papermill": {
     "duration": 0.034563,
     "end_time": "2021-03-31T15:51:46.607521",
     "exception": false,
     "start_time": "2021-03-31T15:51:46.572958",
     "status": "completed"
    },
    "tags": []
   },
   "outputs": [
    {
     "data": {
      "application/javascript": [
       "parent.postMessage({\"jupyterEvent\": \"custom.exercise_interaction\", \"data\": {\"outcomeType\": 1, \"valueTowardsCompletion\": 0.25, \"interactionType\": 1, \"questionType\": 2, \"questionId\": \"2_SelectPredictionData\", \"learnToolsVersion\": \"0.3.4\", \"failureMessage\": \"\", \"exceptionClass\": \"\", \"trace\": \"\"}}, \"*\")"
      ],
      "text/plain": [
       "<IPython.core.display.Javascript object>"
      ]
     },
     "metadata": {},
     "output_type": "display_data"
    },
    {
     "data": {
      "text/markdown": [
       "<span style=\"color:#33cc33\">Correct</span>"
      ],
      "text/plain": [
       "Correct"
      ]
     },
     "metadata": {},
     "output_type": "display_data"
    }
   ],
   "source": [
    "# Create the list of features below\n",
    "feature_names = ['LotArea','YearBuilt','1stFlrSF','2ndFlrSF','FullBath','BedroomAbvGr','TotRmsAbvGrd']\n",
    "\n",
    "# Select data corresponding to features in feature_names\n",
    "X = home_data[feature_names]\n",
    "\n",
    "# Check your answer\n",
    "step_2.check()"
   ]
  },
  {
   "cell_type": "code",
   "execution_count": 6,
   "id": "personalized-twins",
   "metadata": {
    "collapsed": true,
    "execution": {
     "iopub.execute_input": "2021-03-31T15:51:46.645319Z",
     "iopub.status.busy": "2021-03-31T15:51:46.644442Z",
     "iopub.status.idle": "2021-03-31T15:51:46.647858Z",
     "shell.execute_reply": "2021-03-31T15:51:46.648304Z"
    },
    "papermill": {
     "duration": 0.023829,
     "end_time": "2021-03-31T15:51:46.648477",
     "exception": false,
     "start_time": "2021-03-31T15:51:46.624648",
     "status": "completed"
    },
    "tags": []
   },
   "outputs": [],
   "source": [
    "# step_2.hint()\n",
    "# step_2.solution()"
   ]
  },
  {
   "cell_type": "markdown",
   "id": "agricultural-weekend",
   "metadata": {
    "papermill": {
     "duration": 0.016944,
     "end_time": "2021-03-31T15:51:46.682798",
     "exception": false,
     "start_time": "2021-03-31T15:51:46.665854",
     "status": "completed"
    },
    "tags": []
   },
   "source": [
    "## Review Data\n",
    "Before building a model, take a quick look at **X** to verify it looks sensible"
   ]
  },
  {
   "cell_type": "code",
   "execution_count": 7,
   "id": "bigger-difficulty",
   "metadata": {
    "execution": {
     "iopub.execute_input": "2021-03-31T15:51:46.721731Z",
     "iopub.status.busy": "2021-03-31T15:51:46.720748Z",
     "iopub.status.idle": "2021-03-31T15:51:46.737912Z",
     "shell.execute_reply": "2021-03-31T15:51:46.738491Z"
    },
    "papermill": {
     "duration": 0.038678,
     "end_time": "2021-03-31T15:51:46.738696",
     "exception": false,
     "start_time": "2021-03-31T15:51:46.700018",
     "status": "completed"
    },
    "tags": []
   },
   "outputs": [
    {
     "name": "stdout",
     "output_type": "stream",
     "text": [
      "<bound method NDFrame.describe of       LotArea  YearBuilt  1stFlrSF  2ndFlrSF  FullBath  BedroomAbvGr  \\\n",
      "0        8450       2003       856       854         2             3   \n",
      "1        9600       1976      1262         0         2             3   \n",
      "2       11250       2001       920       866         2             3   \n",
      "3        9550       1915       961       756         1             3   \n",
      "4       14260       2000      1145      1053         2             4   \n",
      "...       ...        ...       ...       ...       ...           ...   \n",
      "1455     7917       1999       953       694         2             3   \n",
      "1456    13175       1978      2073         0         2             3   \n",
      "1457     9042       1941      1188      1152         2             4   \n",
      "1458     9717       1950      1078         0         1             2   \n",
      "1459     9937       1965      1256         0         1             3   \n",
      "\n",
      "      TotRmsAbvGrd  \n",
      "0                8  \n",
      "1                6  \n",
      "2                6  \n",
      "3                7  \n",
      "4                9  \n",
      "...            ...  \n",
      "1455             7  \n",
      "1456             7  \n",
      "1457             9  \n",
      "1458             5  \n",
      "1459             6  \n",
      "\n",
      "[1460 rows x 7 columns]>\n",
      "   LotArea  YearBuilt  1stFlrSF  2ndFlrSF  FullBath  BedroomAbvGr  \\\n",
      "0     8450       2003       856       854         2             3   \n",
      "1     9600       1976      1262         0         2             3   \n",
      "2    11250       2001       920       866         2             3   \n",
      "3     9550       1915       961       756         1             3   \n",
      "4    14260       2000      1145      1053         2             4   \n",
      "\n",
      "   TotRmsAbvGrd  \n",
      "0             8  \n",
      "1             6  \n",
      "2             6  \n",
      "3             7  \n",
      "4             9  \n"
     ]
    }
   ],
   "source": [
    "# Review data\n",
    "# print description or statistics from X\n",
    "print(X.describe)\n",
    "\n",
    "# print the top few lines\n",
    "print(X.head())"
   ]
  },
  {
   "cell_type": "markdown",
   "id": "weird-comparison",
   "metadata": {
    "papermill": {
     "duration": 0.01754,
     "end_time": "2021-03-31T15:51:46.774263",
     "exception": false,
     "start_time": "2021-03-31T15:51:46.756723",
     "status": "completed"
    },
    "tags": []
   },
   "source": [
    "## Step 3: Specify and Fit Model\n",
    "Create a `DecisionTreeRegressor` and save it iowa_model. Ensure you've done the relevant import from sklearn to run this command.\n",
    "\n",
    "Then fit the model you just created using the data in `X` and `y` that you saved above."
   ]
  },
  {
   "cell_type": "code",
   "execution_count": 8,
   "id": "nearby-evolution",
   "metadata": {
    "execution": {
     "iopub.execute_input": "2021-03-31T15:51:46.813728Z",
     "iopub.status.busy": "2021-03-31T15:51:46.813036Z",
     "iopub.status.idle": "2021-03-31T15:51:46.830492Z",
     "shell.execute_reply": "2021-03-31T15:51:46.831016Z"
    },
    "papermill": {
     "duration": 0.038886,
     "end_time": "2021-03-31T15:51:46.831186",
     "exception": false,
     "start_time": "2021-03-31T15:51:46.792300",
     "status": "completed"
    },
    "tags": []
   },
   "outputs": [
    {
     "data": {
      "application/javascript": [
       "parent.postMessage({\"jupyterEvent\": \"custom.exercise_interaction\", \"data\": {\"outcomeType\": 1, \"valueTowardsCompletion\": 0.25, \"interactionType\": 1, \"questionType\": 2, \"questionId\": \"3_CreateModel\", \"learnToolsVersion\": \"0.3.4\", \"failureMessage\": \"\", \"exceptionClass\": \"\", \"trace\": \"\"}}, \"*\")"
      ],
      "text/plain": [
       "<IPython.core.display.Javascript object>"
      ]
     },
     "metadata": {},
     "output_type": "display_data"
    },
    {
     "data": {
      "text/markdown": [
       "<span style=\"color:#33cc33\">Correct</span>"
      ],
      "text/plain": [
       "Correct"
      ]
     },
     "metadata": {},
     "output_type": "display_data"
    }
   ],
   "source": [
    "from sklearn.tree import DecisionTreeRegressor\n",
    "#specify the model. \n",
    "#For model reproducibility, set a numeric value for random_state when specifying the model\n",
    "iowa_model = DecisionTreeRegressor(random_state=1)\n",
    "\n",
    "# Fit the model\n",
    "iowa_model.fit(X,y)\n",
    "\n",
    "# Check your answer\n",
    "step_3.check()"
   ]
  },
  {
   "cell_type": "code",
   "execution_count": 9,
   "id": "ultimate-institution",
   "metadata": {
    "execution": {
     "iopub.execute_input": "2021-03-31T15:51:46.873544Z",
     "iopub.status.busy": "2021-03-31T15:51:46.872916Z",
     "iopub.status.idle": "2021-03-31T15:51:46.877314Z",
     "shell.execute_reply": "2021-03-31T15:51:46.876816Z"
    },
    "papermill": {
     "duration": 0.026145,
     "end_time": "2021-03-31T15:51:46.877451",
     "exception": false,
     "start_time": "2021-03-31T15:51:46.851306",
     "status": "completed"
    },
    "tags": []
   },
   "outputs": [],
   "source": [
    "# step_3.hint()\n",
    "#step_3.solution()"
   ]
  },
  {
   "cell_type": "markdown",
   "id": "willing-assault",
   "metadata": {
    "papermill": {
     "duration": 0.018572,
     "end_time": "2021-03-31T15:51:46.915331",
     "exception": false,
     "start_time": "2021-03-31T15:51:46.896759",
     "status": "completed"
    },
    "tags": []
   },
   "source": [
    "## Step 4: Make Predictions\n",
    "Make predictions with the model's `predict` command using `X` as the data. Save the results to a variable called `predictions`."
   ]
  },
  {
   "cell_type": "code",
   "execution_count": 10,
   "id": "certain-independence",
   "metadata": {
    "execution": {
     "iopub.execute_input": "2021-03-31T15:51:46.962908Z",
     "iopub.status.busy": "2021-03-31T15:51:46.961975Z",
     "iopub.status.idle": "2021-03-31T15:51:46.975874Z",
     "shell.execute_reply": "2021-03-31T15:51:46.975268Z"
    },
    "papermill": {
     "duration": 0.040684,
     "end_time": "2021-03-31T15:51:46.976015",
     "exception": false,
     "start_time": "2021-03-31T15:51:46.935331",
     "status": "completed"
    },
    "tags": []
   },
   "outputs": [
    {
     "name": "stdout",
     "output_type": "stream",
     "text": [
      "[208500. 181500. 223500. ... 266500. 142125. 147500.]\n"
     ]
    },
    {
     "data": {
      "application/javascript": [
       "parent.postMessage({\"jupyterEvent\": \"custom.exercise_interaction\", \"data\": {\"outcomeType\": 1, \"valueTowardsCompletion\": 0.25, \"interactionType\": 1, \"questionType\": 2, \"questionId\": \"4_MakePredictions\", \"learnToolsVersion\": \"0.3.4\", \"failureMessage\": \"\", \"exceptionClass\": \"\", \"trace\": \"\"}}, \"*\")"
      ],
      "text/plain": [
       "<IPython.core.display.Javascript object>"
      ]
     },
     "metadata": {},
     "output_type": "display_data"
    },
    {
     "data": {
      "text/markdown": [
       "<span style=\"color:#33cc33\">Correct</span>"
      ],
      "text/plain": [
       "Correct"
      ]
     },
     "metadata": {},
     "output_type": "display_data"
    }
   ],
   "source": [
    "predictions = iowa_model.predict(X)\n",
    "print(predictions)\n",
    "\n",
    "# Check your answer\n",
    "step_4.check()"
   ]
  },
  {
   "cell_type": "code",
   "execution_count": 11,
   "id": "constant-compression",
   "metadata": {
    "collapsed": true,
    "execution": {
     "iopub.execute_input": "2021-03-31T15:51:47.020569Z",
     "iopub.status.busy": "2021-03-31T15:51:47.019894Z",
     "iopub.status.idle": "2021-03-31T15:51:47.023693Z",
     "shell.execute_reply": "2021-03-31T15:51:47.024310Z"
    },
    "papermill": {
     "duration": 0.027914,
     "end_time": "2021-03-31T15:51:47.024482",
     "exception": false,
     "start_time": "2021-03-31T15:51:46.996568",
     "status": "completed"
    },
    "tags": []
   },
   "outputs": [],
   "source": [
    "# step_4.hint()\n",
    "# step_4.solution()"
   ]
  },
  {
   "cell_type": "markdown",
   "id": "consistent-corpus",
   "metadata": {
    "papermill": {
     "duration": 0.020853,
     "end_time": "2021-03-31T15:51:47.066093",
     "exception": false,
     "start_time": "2021-03-31T15:51:47.045240",
     "status": "completed"
    },
    "tags": []
   },
   "source": [
    "## Think About Your Results\n",
    "\n",
    "Use the `head` method to compare the top few predictions to the actual home values (in `y`) for those same homes. Anything surprising?\n"
   ]
  },
  {
   "cell_type": "code",
   "execution_count": 12,
   "id": "declared-navigation",
   "metadata": {
    "execution": {
     "iopub.execute_input": "2021-03-31T15:51:47.112221Z",
     "iopub.status.busy": "2021-03-31T15:51:47.111560Z",
     "iopub.status.idle": "2021-03-31T15:51:47.118814Z",
     "shell.execute_reply": "2021-03-31T15:51:47.118236Z"
    },
    "papermill": {
     "duration": 0.031061,
     "end_time": "2021-03-31T15:51:47.118968",
     "exception": false,
     "start_time": "2021-03-31T15:51:47.087907",
     "status": "completed"
    },
    "tags": []
   },
   "outputs": [
    {
     "data": {
      "text/plain": [
       "0    208500\n",
       "1    181500\n",
       "2    223500\n",
       "3    140000\n",
       "4    250000\n",
       "Name: SalePrice, dtype: int64"
      ]
     },
     "execution_count": 12,
     "metadata": {},
     "output_type": "execute_result"
    }
   ],
   "source": [
    "# You can write code in this cell\n",
    "y.head()"
   ]
  },
  {
   "cell_type": "markdown",
   "id": "clear-student",
   "metadata": {
    "papermill": {
     "duration": 0.020811,
     "end_time": "2021-03-31T15:51:47.161470",
     "exception": false,
     "start_time": "2021-03-31T15:51:47.140659",
     "status": "completed"
    },
    "tags": []
   },
   "source": [
    "It's natural to ask how accurate the model's predictions will be and how you can improve that. That will be you're next step.\n",
    "\n",
    "# Keep Going\n",
    "\n",
    "You are ready for **[Model Validation](https://www.kaggle.com/dansbecker/model-validation).**\n"
   ]
  },
  {
   "cell_type": "markdown",
   "id": "complimentary-eight",
   "metadata": {
    "papermill": {
     "duration": 0.020902,
     "end_time": "2021-03-31T15:51:47.203964",
     "exception": false,
     "start_time": "2021-03-31T15:51:47.183062",
     "status": "completed"
    },
    "tags": []
   },
   "source": [
    "---\n",
    "\n",
    "\n",
    "\n",
    "\n",
    "*Have questions or comments? Visit the [Learn Discussion forum](https://www.kaggle.com/learn-forum/161285) to chat with other Learners.*"
   ]
  }
 ],
 "metadata": {
  "kernelspec": {
   "display_name": "Python 3",
   "language": "python",
   "name": "python3"
  },
  "language_info": {
   "codemirror_mode": {
    "name": "ipython",
    "version": 3
   },
   "file_extension": ".py",
   "mimetype": "text/x-python",
   "name": "python",
   "nbconvert_exporter": "python",
   "pygments_lexer": "ipython3",
   "version": "3.7.9"
  },
  "papermill": {
   "default_parameters": {},
   "duration": 10.125163,
   "end_time": "2021-03-31T15:51:47.937086",
   "environment_variables": {},
   "exception": null,
   "input_path": "__notebook__.ipynb",
   "output_path": "__notebook__.ipynb",
   "parameters": {},
   "start_time": "2021-03-31T15:51:37.811923",
   "version": "2.3.2"
  }
 },
 "nbformat": 4,
 "nbformat_minor": 5
}
