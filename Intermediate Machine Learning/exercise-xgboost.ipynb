{
 "cells": [
  {
   "cell_type": "markdown",
   "id": "banner-operation",
   "metadata": {
    "papermill": {
     "duration": 0.015574,
     "end_time": "2021-03-31T16:59:29.349155",
     "exception": false,
     "start_time": "2021-03-31T16:59:29.333581",
     "status": "completed"
    },
    "tags": []
   },
   "source": [
    "**This notebook is an exercise in the [Intermediate Machine Learning](https://www.kaggle.com/learn/intermediate-machine-learning) course.  You can reference the tutorial at [this link](https://www.kaggle.com/alexisbcook/xgboost).**\n",
    "\n",
    "---\n"
   ]
  },
  {
   "cell_type": "markdown",
   "id": "frequent-tower",
   "metadata": {
    "papermill": {
     "duration": 0.013752,
     "end_time": "2021-03-31T16:59:29.378063",
     "exception": false,
     "start_time": "2021-03-31T16:59:29.364311",
     "status": "completed"
    },
    "tags": []
   },
   "source": [
    "In this exercise, you will use your new knowledge to train a model with **gradient boosting**.\n",
    "\n",
    "# Setup\n",
    "\n",
    "The questions below will give you feedback on your work. Run the following cell to set up the feedback system."
   ]
  },
  {
   "cell_type": "code",
   "execution_count": 1,
   "id": "falling-berlin",
   "metadata": {
    "execution": {
     "iopub.execute_input": "2021-03-31T16:59:29.410809Z",
     "iopub.status.busy": "2021-03-31T16:59:29.409603Z",
     "iopub.status.idle": "2021-03-31T16:59:32.319791Z",
     "shell.execute_reply": "2021-03-31T16:59:32.320503Z"
    },
    "papermill": {
     "duration": 2.929099,
     "end_time": "2021-03-31T16:59:32.320852",
     "exception": false,
     "start_time": "2021-03-31T16:59:29.391753",
     "status": "completed"
    },
    "tags": []
   },
   "outputs": [
    {
     "name": "stdout",
     "output_type": "stream",
     "text": [
      "Setup Complete\n"
     ]
    }
   ],
   "source": [
    "# Set up code checking\n",
    "import os\n",
    "if not os.path.exists(\"../input/train.csv\"):\n",
    "    os.symlink(\"../input/home-data-for-ml-course/train.csv\", \"../input/train.csv\")  \n",
    "    os.symlink(\"../input/home-data-for-ml-course/test.csv\", \"../input/test.csv\") \n",
    "from learntools.core import binder\n",
    "binder.bind(globals())\n",
    "from learntools.ml_intermediate.ex6 import *\n",
    "print(\"Setup Complete\")"
   ]
  },
  {
   "cell_type": "markdown",
   "id": "exciting-portal",
   "metadata": {
    "papermill": {
     "duration": 0.013931,
     "end_time": "2021-03-31T16:59:32.350356",
     "exception": false,
     "start_time": "2021-03-31T16:59:32.336425",
     "status": "completed"
    },
    "tags": []
   },
   "source": [
    "You will work with the [Housing Prices Competition for Kaggle Learn Users](https://www.kaggle.com/c/home-data-for-ml-course) dataset from the previous exercise. \n",
    "\n",
    "![Ames Housing dataset image](https://i.imgur.com/lTJVG4e.png)\n",
    "\n",
    "Run the next code cell without changes to load the training and validation sets in `X_train`, `X_valid`, `y_train`, and `y_valid`.  The test set is loaded in `X_test`."
   ]
  },
  {
   "cell_type": "code",
   "execution_count": 2,
   "id": "swedish-headquarters",
   "metadata": {
    "execution": {
     "iopub.execute_input": "2021-03-31T16:59:32.392349Z",
     "iopub.status.busy": "2021-03-31T16:59:32.391625Z",
     "iopub.status.idle": "2021-03-31T16:59:32.628063Z",
     "shell.execute_reply": "2021-03-31T16:59:32.628621Z"
    },
    "papermill": {
     "duration": 0.264197,
     "end_time": "2021-03-31T16:59:32.628845",
     "exception": false,
     "start_time": "2021-03-31T16:59:32.364648",
     "status": "completed"
    },
    "tags": []
   },
   "outputs": [],
   "source": [
    "import pandas as pd\n",
    "from sklearn.model_selection import train_test_split\n",
    "\n",
    "# Read the data\n",
    "X = pd.read_csv('../input/train.csv', index_col='Id')\n",
    "X_test_full = pd.read_csv('../input/test.csv', index_col='Id')\n",
    "\n",
    "# Remove rows with missing target, separate target from predictors\n",
    "X.dropna(axis=0, subset=['SalePrice'], inplace=True)\n",
    "y = X.SalePrice              \n",
    "X.drop(['SalePrice'], axis=1, inplace=True)\n",
    "\n",
    "# Break off validation set from training data\n",
    "X_train_full, X_valid_full, y_train, y_valid = train_test_split(X, y, train_size=0.8, test_size=0.2,\n",
    "                                                                random_state=0)\n",
    "\n",
    "# \"Cardinality\" means the number of unique values in a column\n",
    "# Select categorical columns with relatively low cardinality (convenient but arbitrary)\n",
    "low_cardinality_cols = [cname for cname in X_train_full.columns if X_train_full[cname].nunique() < 10 and \n",
    "                        X_train_full[cname].dtype == \"object\"]\n",
    "\n",
    "# Select numeric columns\n",
    "numeric_cols = [cname for cname in X_train_full.columns if X_train_full[cname].dtype in ['int64', 'float64']]\n",
    "\n",
    "# Keep selected columns only\n",
    "my_cols = low_cardinality_cols + numeric_cols\n",
    "X_train = X_train_full[my_cols].copy()\n",
    "X_valid = X_valid_full[my_cols].copy()\n",
    "X_test = X_test_full[my_cols].copy()\n",
    "\n",
    "# One-hot encode the data (to shorten the code, we use pandas)\n",
    "X_train = pd.get_dummies(X_train)\n",
    "X_valid = pd.get_dummies(X_valid)\n",
    "X_test = pd.get_dummies(X_test)\n",
    "X_train, X_valid = X_train.align(X_valid, join='left', axis=1)\n",
    "X_train, X_test = X_train.align(X_test, join='left', axis=1)"
   ]
  },
  {
   "cell_type": "markdown",
   "id": "western-sodium",
   "metadata": {
    "papermill": {
     "duration": 0.014118,
     "end_time": "2021-03-31T16:59:32.657836",
     "exception": false,
     "start_time": "2021-03-31T16:59:32.643718",
     "status": "completed"
    },
    "tags": []
   },
   "source": [
    "# Step 1: Build model\n",
    "\n",
    "### Part A\n",
    "\n",
    "In this step, you'll build and train your first model with gradient boosting.\n",
    "\n",
    "- Begin by setting `my_model_1` to an XGBoost model.  Use the [XGBRegressor](https://xgboost.readthedocs.io/en/latest/python/python_api.html#xgboost.XGBRegressor) class, and set the random seed to 0 (`random_state=0`).  **Leave all other parameters as default.**\n",
    "- Then, fit the model to the training data in `X_train` and `y_train`."
   ]
  },
  {
   "cell_type": "code",
   "execution_count": 3,
   "id": "amber-briefing",
   "metadata": {
    "execution": {
     "iopub.execute_input": "2021-03-31T16:59:32.695854Z",
     "iopub.status.busy": "2021-03-31T16:59:32.695082Z",
     "iopub.status.idle": "2021-03-31T16:59:33.370192Z",
     "shell.execute_reply": "2021-03-31T16:59:33.369136Z"
    },
    "papermill": {
     "duration": 0.696017,
     "end_time": "2021-03-31T16:59:33.370440",
     "exception": false,
     "start_time": "2021-03-31T16:59:32.674423",
     "status": "completed"
    },
    "tags": []
   },
   "outputs": [
    {
     "data": {
      "application/javascript": [
       "parent.postMessage({\"jupyterEvent\": \"custom.exercise_interaction\", \"data\": {\"outcomeType\": 1, \"valueTowardsCompletion\": 0.5, \"interactionType\": 1, \"questionType\": 2, \"questionId\": \"1.1_Model1A\", \"learnToolsVersion\": \"0.3.4\", \"failureMessage\": \"\", \"exceptionClass\": \"\", \"trace\": \"\"}}, \"*\")"
      ],
      "text/plain": [
       "<IPython.core.display.Javascript object>"
      ]
     },
     "metadata": {},
     "output_type": "display_data"
    },
    {
     "data": {
      "text/markdown": [
       "<span style=\"color:#33cc33\">Correct</span>"
      ],
      "text/plain": [
       "Correct"
      ]
     },
     "metadata": {},
     "output_type": "display_data"
    }
   ],
   "source": [
    "from xgboost import XGBRegressor\n",
    "\n",
    "# Define the model\n",
    "my_model_1 = XGBRegressor(random_state=0) # Your code here\n",
    "\n",
    "# Fit the model\n",
    "my_model_1.fit(X_train,y_train) # Your code here\n",
    "\n",
    "# Check your answer\n",
    "step_1.a.check()"
   ]
  },
  {
   "cell_type": "code",
   "execution_count": 4,
   "id": "bronze-lying",
   "metadata": {
    "execution": {
     "iopub.execute_input": "2021-03-31T16:59:33.408448Z",
     "iopub.status.busy": "2021-03-31T16:59:33.407688Z",
     "iopub.status.idle": "2021-03-31T16:59:33.411676Z",
     "shell.execute_reply": "2021-03-31T16:59:33.410908Z"
    },
    "papermill": {
     "duration": 0.024861,
     "end_time": "2021-03-31T16:59:33.411851",
     "exception": false,
     "start_time": "2021-03-31T16:59:33.386990",
     "status": "completed"
    },
    "tags": []
   },
   "outputs": [],
   "source": [
    "# Lines below will give you a hint or solution code\n",
    "#step_1.a.hint()\n",
    "#step_1.a.solution()"
   ]
  },
  {
   "cell_type": "markdown",
   "id": "according-geometry",
   "metadata": {
    "papermill": {
     "duration": 0.01678,
     "end_time": "2021-03-31T16:59:33.445316",
     "exception": false,
     "start_time": "2021-03-31T16:59:33.428536",
     "status": "completed"
    },
    "tags": []
   },
   "source": [
    "### Part B\n",
    "\n",
    "Set `predictions_1` to the model's predictions for the validation data.  Recall that the validation features are stored in `X_valid`."
   ]
  },
  {
   "cell_type": "code",
   "execution_count": 5,
   "id": "operational-brake",
   "metadata": {
    "execution": {
     "iopub.execute_input": "2021-03-31T16:59:33.489639Z",
     "iopub.status.busy": "2021-03-31T16:59:33.488100Z",
     "iopub.status.idle": "2021-03-31T16:59:33.505104Z",
     "shell.execute_reply": "2021-03-31T16:59:33.503980Z"
    },
    "papermill": {
     "duration": 0.044418,
     "end_time": "2021-03-31T16:59:33.505310",
     "exception": false,
     "start_time": "2021-03-31T16:59:33.460892",
     "status": "completed"
    },
    "tags": []
   },
   "outputs": [
    {
     "data": {
      "application/javascript": [
       "parent.postMessage({\"jupyterEvent\": \"custom.exercise_interaction\", \"data\": {\"outcomeType\": 1, \"valueTowardsCompletion\": 0.5, \"interactionType\": 1, \"questionType\": 2, \"questionId\": \"1.2_Model1B\", \"learnToolsVersion\": \"0.3.4\", \"failureMessage\": \"\", \"exceptionClass\": \"\", \"trace\": \"\"}}, \"*\")"
      ],
      "text/plain": [
       "<IPython.core.display.Javascript object>"
      ]
     },
     "metadata": {},
     "output_type": "display_data"
    },
    {
     "data": {
      "text/markdown": [
       "<span style=\"color:#33cc33\">Correct</span>"
      ],
      "text/plain": [
       "Correct"
      ]
     },
     "metadata": {},
     "output_type": "display_data"
    }
   ],
   "source": [
    "from sklearn.metrics import mean_absolute_error\n",
    "\n",
    "# Get predictions\n",
    "predictions_1 = my_model_1.predict(X_valid) # Your code here\n",
    "\n",
    "# Check your answer\n",
    "step_1.b.check()"
   ]
  },
  {
   "cell_type": "code",
   "execution_count": 6,
   "id": "respected-fifth",
   "metadata": {
    "execution": {
     "iopub.execute_input": "2021-03-31T16:59:33.544655Z",
     "iopub.status.busy": "2021-03-31T16:59:33.543882Z",
     "iopub.status.idle": "2021-03-31T16:59:33.546722Z",
     "shell.execute_reply": "2021-03-31T16:59:33.547421Z"
    },
    "papermill": {
     "duration": 0.023776,
     "end_time": "2021-03-31T16:59:33.547652",
     "exception": false,
     "start_time": "2021-03-31T16:59:33.523876",
     "status": "completed"
    },
    "tags": []
   },
   "outputs": [],
   "source": [
    "# Lines below will give you a hint or solution code\n",
    "#step_1.b.hint()\n",
    "#step_1.b.solution()"
   ]
  },
  {
   "cell_type": "markdown",
   "id": "presidential-council",
   "metadata": {
    "papermill": {
     "duration": 0.0168,
     "end_time": "2021-03-31T16:59:33.582175",
     "exception": false,
     "start_time": "2021-03-31T16:59:33.565375",
     "status": "completed"
    },
    "tags": []
   },
   "source": [
    "### Part C\n",
    "\n",
    "Finally, use the `mean_absolute_error()` function to calculate the mean absolute error (MAE) corresponding to the predictions for the validation set.  Recall that the labels for the validation data are stored in `y_valid`."
   ]
  },
  {
   "cell_type": "code",
   "execution_count": 7,
   "id": "fleet-edition",
   "metadata": {
    "execution": {
     "iopub.execute_input": "2021-03-31T16:59:33.621594Z",
     "iopub.status.busy": "2021-03-31T16:59:33.620860Z",
     "iopub.status.idle": "2021-03-31T16:59:33.631729Z",
     "shell.execute_reply": "2021-03-31T16:59:33.631035Z"
    },
    "papermill": {
     "duration": 0.032405,
     "end_time": "2021-03-31T16:59:33.631888",
     "exception": false,
     "start_time": "2021-03-31T16:59:33.599483",
     "status": "completed"
    },
    "tags": []
   },
   "outputs": [
    {
     "name": "stdout",
     "output_type": "stream",
     "text": [
      "Mean Absolute Error: 17662.736729452055\n"
     ]
    },
    {
     "data": {
      "application/javascript": [
       "parent.postMessage({\"jupyterEvent\": \"custom.exercise_interaction\", \"data\": {\"outcomeType\": 1, \"valueTowardsCompletion\": 0.5, \"interactionType\": 1, \"questionType\": 2, \"questionId\": \"1.3_Model1C\", \"learnToolsVersion\": \"0.3.4\", \"failureMessage\": \"\", \"exceptionClass\": \"\", \"trace\": \"\"}}, \"*\")"
      ],
      "text/plain": [
       "<IPython.core.display.Javascript object>"
      ]
     },
     "metadata": {},
     "output_type": "display_data"
    },
    {
     "data": {
      "text/markdown": [
       "<span style=\"color:#33cc33\">Correct</span>"
      ],
      "text/plain": [
       "Correct"
      ]
     },
     "metadata": {},
     "output_type": "display_data"
    }
   ],
   "source": [
    "# Calculate MAE\n",
    "mae_1 = mean_absolute_error(predictions_1, y_valid) # Your code here\n",
    "\n",
    "# Uncomment to print MAE\n",
    "print(\"Mean Absolute Error:\" , mae_1)\n",
    "\n",
    "# Check your answer\n",
    "step_1.c.check()"
   ]
  },
  {
   "cell_type": "code",
   "execution_count": 8,
   "id": "miniature-independence",
   "metadata": {
    "execution": {
     "iopub.execute_input": "2021-03-31T16:59:33.674672Z",
     "iopub.status.busy": "2021-03-31T16:59:33.673976Z",
     "iopub.status.idle": "2021-03-31T16:59:33.677877Z",
     "shell.execute_reply": "2021-03-31T16:59:33.677271Z"
    },
    "papermill": {
     "duration": 0.027255,
     "end_time": "2021-03-31T16:59:33.678043",
     "exception": false,
     "start_time": "2021-03-31T16:59:33.650788",
     "status": "completed"
    },
    "tags": []
   },
   "outputs": [],
   "source": [
    "# Lines below will give you a hint or solution code\n",
    "#step_1.c.hint()\n",
    "#step_1.c.solution()"
   ]
  },
  {
   "cell_type": "markdown",
   "id": "virtual-skiing",
   "metadata": {
    "papermill": {
     "duration": 0.018354,
     "end_time": "2021-03-31T16:59:33.715038",
     "exception": false,
     "start_time": "2021-03-31T16:59:33.696684",
     "status": "completed"
    },
    "tags": []
   },
   "source": [
    "# Step 2: Improve the model\n",
    "\n",
    "Now that you've trained a default model as baseline, it's time to tinker with the parameters, to see if you can get better performance!\n",
    "- Begin by setting `my_model_2` to an XGBoost model, using the [XGBRegressor](https://xgboost.readthedocs.io/en/latest/python/python_api.html#xgboost.XGBRegressor) class.  Use what you learned in the previous tutorial to figure out how to change the default parameters (like `n_estimators` and `learning_rate`) to get better results.\n",
    "- Then, fit the model to the training data in `X_train` and `y_train`.\n",
    "- Set `predictions_2` to the model's predictions for the validation data.  Recall that the validation features are stored in `X_valid`.\n",
    "- Finally, use the `mean_absolute_error()` function to calculate the mean absolute error (MAE) corresponding to the predictions on the validation set.  Recall that the labels for the validation data are stored in `y_valid`.\n",
    "\n",
    "In order for this step to be marked correct, your model in `my_model_2` must attain lower MAE than the model in `my_model_1`. "
   ]
  },
  {
   "cell_type": "code",
   "execution_count": 9,
   "id": "choice-transcription",
   "metadata": {
    "execution": {
     "iopub.execute_input": "2021-03-31T16:59:33.762982Z",
     "iopub.status.busy": "2021-03-31T16:59:33.761977Z",
     "iopub.status.idle": "2021-03-31T16:59:40.166844Z",
     "shell.execute_reply": "2021-03-31T16:59:40.167512Z"
    },
    "papermill": {
     "duration": 6.434023,
     "end_time": "2021-03-31T16:59:40.167760",
     "exception": false,
     "start_time": "2021-03-31T16:59:33.733737",
     "status": "completed"
    },
    "tags": []
   },
   "outputs": [
    {
     "name": "stdout",
     "output_type": "stream",
     "text": [
      "Mean Absolute Error: 16688.691513270547\n"
     ]
    },
    {
     "data": {
      "application/javascript": [
       "parent.postMessage({\"jupyterEvent\": \"custom.exercise_interaction\", \"data\": {\"outcomeType\": 1, \"valueTowardsCompletion\": 0.5, \"interactionType\": 1, \"questionType\": 2, \"questionId\": \"2_Model2\", \"learnToolsVersion\": \"0.3.4\", \"failureMessage\": \"\", \"exceptionClass\": \"\", \"trace\": \"\"}}, \"*\")"
      ],
      "text/plain": [
       "<IPython.core.display.Javascript object>"
      ]
     },
     "metadata": {},
     "output_type": "display_data"
    },
    {
     "data": {
      "text/markdown": [
       "<span style=\"color:#33cc33\">Correct</span>"
      ],
      "text/plain": [
       "Correct"
      ]
     },
     "metadata": {},
     "output_type": "display_data"
    }
   ],
   "source": [
    "# Define the model\n",
    "my_model_2 = XGBRegressor(n_estimators=1000, learning_rate=0.05) # Your code here\n",
    "\n",
    "# Fit the model\n",
    "my_model_2.fit(X_train, y_train) # Your code here\n",
    "\n",
    "# Get predictions\n",
    "\n",
    "predictions_2 = my_model_2.predict(X_valid) # Your code here\n",
    "\n",
    "# Calculate MAE\n",
    "mae_2 = mean_absolute_error(predictions_2, y_valid) # Your code here\n",
    "\n",
    "# Uncomment to print MAE\n",
    "print(\"Mean Absolute Error:\" , mae_2)\n",
    "\n",
    "# Check your answer\n",
    "step_2.check()"
   ]
  },
  {
   "cell_type": "code",
   "execution_count": 10,
   "id": "oriental-eugene",
   "metadata": {
    "execution": {
     "iopub.execute_input": "2021-03-31T16:59:40.215989Z",
     "iopub.status.busy": "2021-03-31T16:59:40.215214Z",
     "iopub.status.idle": "2021-03-31T16:59:40.219211Z",
     "shell.execute_reply": "2021-03-31T16:59:40.218681Z"
    },
    "papermill": {
     "duration": 0.029122,
     "end_time": "2021-03-31T16:59:40.219387",
     "exception": false,
     "start_time": "2021-03-31T16:59:40.190265",
     "status": "completed"
    },
    "tags": []
   },
   "outputs": [],
   "source": [
    "# Lines below will give you a hint or solution code\n",
    "#step_2.hint()\n",
    "#step_2.solution()"
   ]
  },
  {
   "cell_type": "markdown",
   "id": "according-refund",
   "metadata": {
    "papermill": {
     "duration": 0.019652,
     "end_time": "2021-03-31T16:59:40.259173",
     "exception": false,
     "start_time": "2021-03-31T16:59:40.239521",
     "status": "completed"
    },
    "tags": []
   },
   "source": [
    "# Step 3: Break the model\n",
    "\n",
    "In this step, you will create a model that performs worse than the original model in Step 1.  This will help you to develop your intuition for how to set parameters.  You might even find that you accidentally get better performance, which is ultimately a nice problem to have and a valuable learning experience!\n",
    "- Begin by setting `my_model_3` to an XGBoost model, using the [XGBRegressor](https://xgboost.readthedocs.io/en/latest/python/python_api.html#xgboost.XGBRegressor) class.  Use what you learned in the previous tutorial to figure out how to change the default parameters (like `n_estimators` and `learning_rate`) to design a model to get high MAE.\n",
    "- Then, fit the model to the training data in `X_train` and `y_train`.\n",
    "- Set `predictions_3` to the model's predictions for the validation data.  Recall that the validation features are stored in `X_valid`.\n",
    "- Finally, use the `mean_absolute_error()` function to calculate the mean absolute error (MAE) corresponding to the predictions on the validation set.  Recall that the labels for the validation data are stored in `y_valid`.\n",
    "\n",
    "In order for this step to be marked correct, your model in `my_model_3` must attain higher MAE than the model in `my_model_1`. "
   ]
  },
  {
   "cell_type": "code",
   "execution_count": 11,
   "id": "stuffed-money",
   "metadata": {
    "execution": {
     "iopub.execute_input": "2021-03-31T16:59:40.318084Z",
     "iopub.status.busy": "2021-03-31T16:59:40.316725Z",
     "iopub.status.idle": "2021-03-31T16:59:40.364854Z",
     "shell.execute_reply": "2021-03-31T16:59:40.365812Z"
    },
    "papermill": {
     "duration": 0.085585,
     "end_time": "2021-03-31T16:59:40.366025",
     "exception": false,
     "start_time": "2021-03-31T16:59:40.280440",
     "status": "completed"
    },
    "tags": []
   },
   "outputs": [
    {
     "name": "stdout",
     "output_type": "stream",
     "text": [
      "Mean Absolute Error: 127895.0828807256\n"
     ]
    },
    {
     "data": {
      "application/javascript": [
       "parent.postMessage({\"jupyterEvent\": \"custom.exercise_interaction\", \"data\": {\"outcomeType\": 1, \"valueTowardsCompletion\": 0.5, \"interactionType\": 1, \"questionType\": 2, \"questionId\": \"3_Model3\", \"learnToolsVersion\": \"0.3.4\", \"failureMessage\": \"\", \"exceptionClass\": \"\", \"trace\": \"\"}}, \"*\")"
      ],
      "text/plain": [
       "<IPython.core.display.Javascript object>"
      ]
     },
     "metadata": {},
     "output_type": "display_data"
    },
    {
     "data": {
      "text/markdown": [
       "<span style=\"color:#33cc33\">Correct</span>"
      ],
      "text/plain": [
       "Correct"
      ]
     },
     "metadata": {},
     "output_type": "display_data"
    }
   ],
   "source": [
    "# Define the model\n",
    "my_model_3 = XGBRegressor(n_estimators=1)\n",
    "\n",
    "# Fit the model\n",
    "\n",
    "my_model_3.fit(X_train, y_train) # Your code here\n",
    "\n",
    "# Get predictions\n",
    "predictions_3 = my_model_3.predict(X_valid)\n",
    "\n",
    "# Calculate MAE\n",
    "mae_3 = mean_absolute_error(predictions_3, y_valid)\n",
    "\n",
    "# Uncomment to print MAE\n",
    "print(\"Mean Absolute Error:\" , mae_3)\n",
    "\n",
    "# Check your answer\n",
    "step_3.check()"
   ]
  },
  {
   "cell_type": "code",
   "execution_count": 12,
   "id": "published-chancellor",
   "metadata": {
    "execution": {
     "iopub.execute_input": "2021-03-31T16:59:40.415497Z",
     "iopub.status.busy": "2021-03-31T16:59:40.414765Z",
     "iopub.status.idle": "2021-03-31T16:59:40.418318Z",
     "shell.execute_reply": "2021-03-31T16:59:40.417525Z"
    },
    "papermill": {
     "duration": 0.030693,
     "end_time": "2021-03-31T16:59:40.418477",
     "exception": false,
     "start_time": "2021-03-31T16:59:40.387784",
     "status": "completed"
    },
    "tags": []
   },
   "outputs": [],
   "source": [
    "# Lines below will give you a hint or solution code\n",
    "#step_3.hint()\n",
    "#step_3.solution()"
   ]
  },
  {
   "cell_type": "markdown",
   "id": "registered-christmas",
   "metadata": {
    "papermill": {
     "duration": 0.021318,
     "end_time": "2021-03-31T16:59:40.461319",
     "exception": false,
     "start_time": "2021-03-31T16:59:40.440001",
     "status": "completed"
    },
    "tags": []
   },
   "source": [
    "# Keep going\n",
    "\n",
    "Continue to learn about **[data leakage](https://www.kaggle.com/alexisbcook/data-leakage)**.  This is an important issue for a data scientist to understand, and it has the potential to ruin your models in subtle and dangerous ways!"
   ]
  },
  {
   "cell_type": "markdown",
   "id": "dynamic-costume",
   "metadata": {
    "papermill": {
     "duration": 0.027448,
     "end_time": "2021-03-31T16:59:40.510762",
     "exception": false,
     "start_time": "2021-03-31T16:59:40.483314",
     "status": "completed"
    },
    "tags": []
   },
   "source": [
    "---\n",
    "\n",
    "\n",
    "\n",
    "\n",
    "*Have questions or comments? Visit the [Learn Discussion forum](https://www.kaggle.com/learn-forum/161289) to chat with other Learners.*"
   ]
  }
 ],
 "metadata": {
  "kernelspec": {
   "display_name": "Python 3",
   "language": "python",
   "name": "python3"
  },
  "language_info": {
   "codemirror_mode": {
    "name": "ipython",
    "version": 3
   },
   "file_extension": ".py",
   "mimetype": "text/x-python",
   "name": "python",
   "nbconvert_exporter": "python",
   "pygments_lexer": "ipython3",
   "version": "3.7.9"
  },
  "papermill": {
   "default_parameters": {},
   "duration": 19.865213,
   "end_time": "2021-03-31T16:59:41.353166",
   "environment_variables": {},
   "exception": null,
   "input_path": "__notebook__.ipynb",
   "output_path": "__notebook__.ipynb",
   "parameters": {},
   "start_time": "2021-03-31T16:59:21.487953",
   "version": "2.3.2"
  }
 },
 "nbformat": 4,
 "nbformat_minor": 5
}
