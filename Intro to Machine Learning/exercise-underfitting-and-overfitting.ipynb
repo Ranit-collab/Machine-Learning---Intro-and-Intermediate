{
 "cells": [
  {
   "cell_type": "markdown",
   "id": "adjacent-diesel",
   "metadata": {
    "papermill": {
     "duration": 0.009541,
     "end_time": "2021-03-31T16:01:26.127668",
     "exception": false,
     "start_time": "2021-03-31T16:01:26.118127",
     "status": "completed"
    },
    "tags": []
   },
   "source": [
    "**This notebook is an exercise in the [Introduction to Machine Learning](https://www.kaggle.com/learn/intro-to-machine-learning) course.  You can reference the tutorial at [this link](https://www.kaggle.com/dansbecker/underfitting-and-overfitting).**\n",
    "\n",
    "---\n"
   ]
  },
  {
   "cell_type": "markdown",
   "id": "prepared-brother",
   "metadata": {
    "papermill": {
     "duration": 0.008476,
     "end_time": "2021-03-31T16:01:26.145408",
     "exception": false,
     "start_time": "2021-03-31T16:01:26.136932",
     "status": "completed"
    },
    "tags": []
   },
   "source": [
    "## Recap\n",
    "You've built your first model, and now it's time to optimize the size of the tree to make better predictions. Run this cell to set up your coding environment where the previous step left off."
   ]
  },
  {
   "cell_type": "code",
   "execution_count": 1,
   "id": "absolute-period",
   "metadata": {
    "execution": {
     "iopub.execute_input": "2021-03-31T16:01:26.167070Z",
     "iopub.status.busy": "2021-03-31T16:01:26.165786Z",
     "iopub.status.idle": "2021-03-31T16:01:27.760352Z",
     "shell.execute_reply": "2021-03-31T16:01:27.761386Z"
    },
    "papermill": {
     "duration": 1.608069,
     "end_time": "2021-03-31T16:01:27.762108",
     "exception": false,
     "start_time": "2021-03-31T16:01:26.154039",
     "status": "completed"
    },
    "tags": []
   },
   "outputs": [
    {
     "name": "stdout",
     "output_type": "stream",
     "text": [
      "Validation MAE: 29,653\n",
      "\n",
      "Setup complete\n"
     ]
    }
   ],
   "source": [
    "# Code you have previously used to load data\n",
    "import pandas as pd\n",
    "from sklearn.metrics import mean_absolute_error\n",
    "from sklearn.model_selection import train_test_split\n",
    "from sklearn.tree import DecisionTreeRegressor\n",
    "\n",
    "\n",
    "# Path of the file to read\n",
    "iowa_file_path = '../input/home-data-for-ml-course/train.csv'\n",
    "\n",
    "home_data = pd.read_csv(iowa_file_path)\n",
    "# Create target object and call it y\n",
    "y = home_data.SalePrice\n",
    "# Create X\n",
    "features = ['LotArea', 'YearBuilt', '1stFlrSF', '2ndFlrSF', 'FullBath', 'BedroomAbvGr', 'TotRmsAbvGrd']\n",
    "X = home_data[features]\n",
    "\n",
    "# Split into validation and training data\n",
    "train_X, val_X, train_y, val_y = train_test_split(X, y, random_state=1)\n",
    "\n",
    "# Specify Model\n",
    "iowa_model = DecisionTreeRegressor(random_state=1)\n",
    "# Fit Model\n",
    "iowa_model.fit(train_X, train_y)\n",
    "\n",
    "# Make validation predictions and calculate mean absolute error\n",
    "val_predictions = iowa_model.predict(val_X)\n",
    "val_mae = mean_absolute_error(val_predictions, val_y)\n",
    "print(\"Validation MAE: {:,.0f}\".format(val_mae))\n",
    "\n",
    "# Set up code checking\n",
    "from learntools.core import binder\n",
    "binder.bind(globals())\n",
    "from learntools.machine_learning.ex5 import *\n",
    "print(\"\\nSetup complete\")"
   ]
  },
  {
   "cell_type": "markdown",
   "id": "encouraging-feature",
   "metadata": {
    "papermill": {
     "duration": 0.012676,
     "end_time": "2021-03-31T16:01:27.787906",
     "exception": false,
     "start_time": "2021-03-31T16:01:27.775230",
     "status": "completed"
    },
    "tags": []
   },
   "source": [
    "# Exercises\n",
    "You could write the function `get_mae` yourself. For now, we'll supply it. This is the same function you read about in the previous lesson. Just run the cell below."
   ]
  },
  {
   "cell_type": "code",
   "execution_count": 2,
   "id": "raising-correlation",
   "metadata": {
    "execution": {
     "iopub.execute_input": "2021-03-31T16:01:27.814082Z",
     "iopub.status.busy": "2021-03-31T16:01:27.813372Z",
     "iopub.status.idle": "2021-03-31T16:01:27.822255Z",
     "shell.execute_reply": "2021-03-31T16:01:27.821699Z"
    },
    "papermill": {
     "duration": 0.022098,
     "end_time": "2021-03-31T16:01:27.822414",
     "exception": false,
     "start_time": "2021-03-31T16:01:27.800316",
     "status": "completed"
    },
    "tags": []
   },
   "outputs": [],
   "source": [
    "def get_mae(max_leaf_nodes, train_X, val_X, train_y, val_y):\n",
    "    model = DecisionTreeRegressor(max_leaf_nodes=max_leaf_nodes, random_state=0)\n",
    "    model.fit(train_X, train_y)\n",
    "    preds_val = model.predict(val_X)\n",
    "    mae = mean_absolute_error(val_y, preds_val)\n",
    "    return(mae)"
   ]
  },
  {
   "cell_type": "markdown",
   "id": "regular-going",
   "metadata": {
    "papermill": {
     "duration": 0.009226,
     "end_time": "2021-03-31T16:01:27.844009",
     "exception": false,
     "start_time": "2021-03-31T16:01:27.834783",
     "status": "completed"
    },
    "tags": []
   },
   "source": [
    "## Step 1: Compare Different Tree Sizes\n",
    "Write a loop that tries the following values for *max_leaf_nodes* from a set of possible values.\n",
    "\n",
    "Call the *get_mae* function on each value of max_leaf_nodes. Store the output in some way that allows you to select the value of `max_leaf_nodes` that gives the most accurate model on your data."
   ]
  },
  {
   "cell_type": "code",
   "execution_count": 3,
   "id": "incorporated-telescope",
   "metadata": {
    "execution": {
     "iopub.execute_input": "2021-03-31T16:01:27.866614Z",
     "iopub.status.busy": "2021-03-31T16:01:27.865875Z",
     "iopub.status.idle": "2021-03-31T16:01:27.925410Z",
     "shell.execute_reply": "2021-03-31T16:01:27.924773Z"
    },
    "papermill": {
     "duration": 0.071674,
     "end_time": "2021-03-31T16:01:27.925576",
     "exception": false,
     "start_time": "2021-03-31T16:01:27.853902",
     "status": "completed"
    },
    "tags": []
   },
   "outputs": [
    {
     "name": "stdout",
     "output_type": "stream",
     "text": [
      "5 35044.51299744237\n",
      "25 29016.41319191076\n",
      "50 27405.930473214907\n",
      "100 27282.50803885739\n",
      "250 27893.822225701646\n",
      "500 29454.18598068598\n"
     ]
    },
    {
     "data": {
      "application/javascript": [
       "parent.postMessage({\"jupyterEvent\": \"custom.exercise_interaction\", \"data\": {\"outcomeType\": 1, \"valueTowardsCompletion\": 0.5, \"interactionType\": 1, \"questionType\": 1, \"questionId\": \"1_BestTreeSize\", \"learnToolsVersion\": \"0.3.4\", \"failureMessage\": \"\", \"exceptionClass\": \"\", \"trace\": \"\"}}, \"*\")"
      ],
      "text/plain": [
       "<IPython.core.display.Javascript object>"
      ]
     },
     "metadata": {},
     "output_type": "display_data"
    },
    {
     "data": {
      "text/markdown": [
       "<span style=\"color:#33cc33\">Correct</span>"
      ],
      "text/plain": [
       "Correct"
      ]
     },
     "metadata": {},
     "output_type": "display_data"
    }
   ],
   "source": [
    "candidate_max_leaf_nodes = [5, 25, 50, 100, 250, 500]\n",
    "a=[]\n",
    "# Write loop to find the ideal tree size from candidate_max_leaf_nodes\n",
    "for i in candidate_max_leaf_nodes:\n",
    "    my_mae=get_mae(i,train_X,val_X,train_y,val_y)\n",
    "    print(i,my_mae)\n",
    "# Store the best value of max_leaf_nodes (it will be either 5, 25, 50, 100, 250 or 500)\n",
    "best_tree_size =100\n",
    "# Check your answer\n",
    "step_1.check()"
   ]
  },
  {
   "cell_type": "code",
   "execution_count": 4,
   "id": "unlike-johns",
   "metadata": {
    "execution": {
     "iopub.execute_input": "2021-03-31T16:01:27.953084Z",
     "iopub.status.busy": "2021-03-31T16:01:27.952207Z",
     "iopub.status.idle": "2021-03-31T16:01:27.961457Z",
     "shell.execute_reply": "2021-03-31T16:01:27.960815Z"
    },
    "papermill": {
     "duration": 0.024941,
     "end_time": "2021-03-31T16:01:27.961617",
     "exception": false,
     "start_time": "2021-03-31T16:01:27.936676",
     "status": "completed"
    },
    "tags": []
   },
   "outputs": [
    {
     "data": {
      "application/javascript": [
       "parent.postMessage({\"jupyterEvent\": \"custom.exercise_interaction\", \"data\": {\"interactionType\": 2, \"questionType\": 1, \"questionId\": \"1_BestTreeSize\", \"learnToolsVersion\": \"0.3.4\", \"valueTowardsCompletion\": 0.0, \"failureMessage\": \"\", \"exceptionClass\": \"\", \"trace\": \"\", \"outcomeType\": 4}}, \"*\")"
      ],
      "text/plain": [
       "<IPython.core.display.Javascript object>"
      ]
     },
     "metadata": {},
     "output_type": "display_data"
    },
    {
     "data": {
      "text/markdown": [
       "<span style=\"color:#3366cc\">Hint:</span> You will call get_mae in the loop. You'll need to map the names of your data structure to the names in get_mae"
      ],
      "text/plain": [
       "Hint: You will call get_mae in the loop. You'll need to map the names of your data structure to the names in get_mae"
      ]
     },
     "metadata": {},
     "output_type": "display_data"
    },
    {
     "data": {
      "application/javascript": [
       "parent.postMessage({\"jupyterEvent\": \"custom.exercise_interaction\", \"data\": {\"interactionType\": 3, \"questionType\": 1, \"questionId\": \"1_BestTreeSize\", \"learnToolsVersion\": \"0.3.4\", \"valueTowardsCompletion\": 0.0, \"failureMessage\": \"\", \"exceptionClass\": \"\", \"trace\": \"\", \"outcomeType\": 4}}, \"*\")"
      ],
      "text/plain": [
       "<IPython.core.display.Javascript object>"
      ]
     },
     "metadata": {},
     "output_type": "display_data"
    },
    {
     "data": {
      "text/markdown": [
       "<span style=\"color:#33cc99\">Solution:</span> \n",
       "```python\n",
       "# Here is a short solution with a dict comprehension.\n",
       "# The lesson gives an example of how to do this with an explicit loop.\n",
       "scores = {leaf_size: get_mae(leaf_size, train_X, val_X, train_y, val_y) for leaf_size in candidate_max_leaf_nodes}\n",
       "best_tree_size = min(scores, key=scores.get)\n",
       "\n",
       "```"
      ],
      "text/plain": [
       "Solution: \n",
       "```python\n",
       "# Here is a short solution with a dict comprehension.\n",
       "# The lesson gives an example of how to do this with an explicit loop.\n",
       "scores = {leaf_size: get_mae(leaf_size, train_X, val_X, train_y, val_y) for leaf_size in candidate_max_leaf_nodes}\n",
       "best_tree_size = min(scores, key=scores.get)\n",
       "\n",
       "```"
      ]
     },
     "metadata": {},
     "output_type": "display_data"
    }
   ],
   "source": [
    "# The lines below will show you a hint or the solution.\n",
    "step_1.hint() \n",
    "step_1.solution()"
   ]
  },
  {
   "cell_type": "markdown",
   "id": "accurate-house",
   "metadata": {
    "papermill": {
     "duration": 0.013465,
     "end_time": "2021-03-31T16:01:27.988330",
     "exception": false,
     "start_time": "2021-03-31T16:01:27.974865",
     "status": "completed"
    },
    "tags": []
   },
   "source": [
    "## Step 2: Fit Model Using All Data\n",
    "You know the best tree size. If you were going to deploy this model in practice, you would make it even more accurate by using all of the data and keeping that tree size.  That is, you don't need to hold out the validation data now that you've made all your modeling decisions."
   ]
  },
  {
   "cell_type": "code",
   "execution_count": 5,
   "id": "distributed-average",
   "metadata": {
    "execution": {
     "iopub.execute_input": "2021-03-31T16:01:28.024025Z",
     "iopub.status.busy": "2021-03-31T16:01:28.023249Z",
     "iopub.status.idle": "2021-03-31T16:01:28.037285Z",
     "shell.execute_reply": "2021-03-31T16:01:28.036719Z"
    },
    "papermill": {
     "duration": 0.0349,
     "end_time": "2021-03-31T16:01:28.037428",
     "exception": false,
     "start_time": "2021-03-31T16:01:28.002528",
     "status": "completed"
    },
    "tags": []
   },
   "outputs": [
    {
     "data": {
      "application/javascript": [
       "parent.postMessage({\"jupyterEvent\": \"custom.exercise_interaction\", \"data\": {\"outcomeType\": 1, \"valueTowardsCompletion\": 0.5, \"interactionType\": 1, \"questionType\": 2, \"questionId\": \"2_FitModelWithAllData\", \"learnToolsVersion\": \"0.3.4\", \"failureMessage\": \"\", \"exceptionClass\": \"\", \"trace\": \"\"}}, \"*\")"
      ],
      "text/plain": [
       "<IPython.core.display.Javascript object>"
      ]
     },
     "metadata": {},
     "output_type": "display_data"
    },
    {
     "data": {
      "text/markdown": [
       "<span style=\"color:#33cc33\">Correct</span>"
      ],
      "text/plain": [
       "Correct"
      ]
     },
     "metadata": {},
     "output_type": "display_data"
    }
   ],
   "source": [
    "# Fill in argument to make optimal size and uncomment\n",
    "final_model = DecisionTreeRegressor(max_leaf_nodes=best_tree_size,random_state=1)\n",
    "\n",
    "# fit the final model and uncomment the next two lines\n",
    "final_model.fit(X,y)\n",
    "\n",
    "# Check your answer\n",
    "step_2.check()"
   ]
  },
  {
   "cell_type": "code",
   "execution_count": 6,
   "id": "dried-hobby",
   "metadata": {
    "execution": {
     "iopub.execute_input": "2021-03-31T16:01:28.073756Z",
     "iopub.status.busy": "2021-03-31T16:01:28.072985Z",
     "iopub.status.idle": "2021-03-31T16:01:28.076896Z",
     "shell.execute_reply": "2021-03-31T16:01:28.076235Z"
    },
    "papermill": {
     "duration": 0.022825,
     "end_time": "2021-03-31T16:01:28.077045",
     "exception": false,
     "start_time": "2021-03-31T16:01:28.054220",
     "status": "completed"
    },
    "tags": []
   },
   "outputs": [],
   "source": [
    "# step_2.hint()\n",
    "# step_2.solution()"
   ]
  },
  {
   "cell_type": "markdown",
   "id": "purple-hindu",
   "metadata": {
    "papermill": {
     "duration": 0.014452,
     "end_time": "2021-03-31T16:01:28.105918",
     "exception": false,
     "start_time": "2021-03-31T16:01:28.091466",
     "status": "completed"
    },
    "tags": []
   },
   "source": [
    "You've tuned this model and improved your results. But we are still using Decision Tree models, which are not very sophisticated by modern machine learning standards. In the next step you will learn to use Random Forests to improve your models even more.\n",
    "\n",
    "# Keep Going\n",
    "\n",
    "You are ready for **[Random Forests](https://www.kaggle.com/dansbecker/random-forests).**\n"
   ]
  },
  {
   "cell_type": "markdown",
   "id": "sitting-definition",
   "metadata": {
    "papermill": {
     "duration": 0.013933,
     "end_time": "2021-03-31T16:01:28.136100",
     "exception": false,
     "start_time": "2021-03-31T16:01:28.122167",
     "status": "completed"
    },
    "tags": []
   },
   "source": [
    "---\n",
    "\n",
    "\n",
    "\n",
    "\n",
    "*Have questions or comments? Visit the [Learn Discussion forum](https://www.kaggle.com/learn-forum/161285) to chat with other Learners.*"
   ]
  }
 ],
 "metadata": {
  "kernelspec": {
   "display_name": "Python 3",
   "language": "python",
   "name": "python3"
  },
  "language_info": {
   "codemirror_mode": {
    "name": "ipython",
    "version": 3
   },
   "file_extension": ".py",
   "mimetype": "text/x-python",
   "name": "python",
   "nbconvert_exporter": "python",
   "pygments_lexer": "ipython3",
   "version": "3.7.9"
  },
  "papermill": {
   "default_parameters": {},
   "duration": 9.457421,
   "end_time": "2021-03-31T16:01:28.860269",
   "environment_variables": {},
   "exception": null,
   "input_path": "__notebook__.ipynb",
   "output_path": "__notebook__.ipynb",
   "parameters": {},
   "start_time": "2021-03-31T16:01:19.402848",
   "version": "2.3.2"
  }
 },
 "nbformat": 4,
 "nbformat_minor": 5
}
